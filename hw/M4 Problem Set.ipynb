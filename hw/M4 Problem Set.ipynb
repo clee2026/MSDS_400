{
 "cells": [
  {
   "cell_type": "markdown",
   "metadata": {},
   "source": [
    "# Module 4 Problem Set"
   ]
  },
  {
   "cell_type": "markdown",
   "metadata": {},
   "source": [
    "<div class=\"alert alert-block alert-success\"><b>Problem 2:</b> Find the following limit: <br/>\n",
    "    \n",
    "$$\\lim_{x \\to 7} \\frac{x^3 - 9x^2 + 9x + 35}{x-7}$$ \n",
    "    \n",
    "<br/>\n",
    "</div>\n"
   ]
  },
  {
   "cell_type": "code",
   "execution_count": 1,
   "metadata": {},
   "outputs": [
    {
     "name": "stdout",
     "output_type": "stream",
     "text": [
      "30\n"
     ]
    }
   ],
   "source": [
    "from sympy import Symbol, limit\n",
    "\n",
    "x = Symbol('x')\n",
    "f_x = (x**3 - 9*x**2 + 9*x + 35) / (x-7)\n",
    "li = limit(f_x, x, 7)\n",
    "print(li)"
   ]
  },
  {
   "cell_type": "markdown",
   "metadata": {},
   "source": [
    "<div class=\"alert alert-block alert-success\"><b>Problem 5:</b> A ball is thrown into the air with an initial velocity of  ft/s. Its height in feet after t seconds is given by <b>y = 80t - 16t<sup>2</sup></b> . <br/>\n",
    "\n",
    "        \n",
    "<b>(a)</b> Find the average velocity for the time period beginning at  seconds and lasting for the following number of seconds (round your answers to four decimals as needed):\n",
    "\n",
    "<blockquote>\n",
    "    .01 sec: __<br/>\n",
    "    .005 sec: __<br/>\n",
    "    .002 sec: __<br/>\n",
    "    .001 sec: __<br/>\n",
    "</blockquote>\n",
    "\n",
    "<b>(b)</b> Estimate the instanteneous velocity when t=2 . __  \n",
    "</div>\n",
    "\n"
   ]
  },
  {
   "cell_type": "code",
   "execution_count": 2,
   "metadata": {},
   "outputs": [
    {
     "name": "stderr",
     "output_type": "stream",
     "text": [
      "<frozen importlib._bootstrap>:228: RuntimeWarning: scipy._lib.messagestream.MessageStream size changed, may indicate binary incompatibility. Expected 56 from C header, got 64 from PyObject\n"
     ]
    },
    {
     "name": "stdout",
     "output_type": "stream",
     "text": [
      "Instantaneous velocity at t=2: 16\n",
      "Ave velocity between t=2 and t=2.01 seconds: 15.8400\n"
     ]
    }
   ],
   "source": [
    "from sympy import symbols, diff, lambdify\n",
    "\n",
    "\n",
    "t = symbols('t')\n",
    "d = 80*t - 16*t**2\n",
    "d_prime = d.diff(t)\n",
    "func_d_prime = lambdify(t, d_prime)\n",
    "\n",
    "print(\"Instantaneous velocity at t=2:\", round(func_d_prime(2), 4))\n",
    "\n",
    "# For average velocity calculation\n",
    "a = 2.01\n",
    "b = 2\n",
    "\n",
    "difference_in_height = d.subs(t, a) - d.subs(t, b)\n",
    "time_interval = a - b\n",
    "\n",
    "average_velocity = difference_in_height / time_interval\n",
    "print(f\"Ave velocity between t={b} and t={a} seconds: {round(average_velocity,4)}\")\n"
   ]
  },
  {
   "cell_type": "code",
   "execution_count": 3,
   "metadata": {},
   "outputs": [
    {
     "name": "stdout",
     "output_type": "stream",
     "text": [
      "Ave velocity between t=2 and t=2.005 seconds: 15.9200\n"
     ]
    }
   ],
   "source": [
    "a = 2.005\n",
    "b = 2\n",
    "\n",
    "difference_in_height = d.subs(t, a) - d.subs(t, b)\n",
    "time_interval = a - b\n",
    "\n",
    "average_velocity = difference_in_height / time_interval\n",
    "print(f\"Ave velocity between t={b} and t={a} seconds: {round(average_velocity,4)}\")"
   ]
  },
  {
   "cell_type": "code",
   "execution_count": 4,
   "metadata": {},
   "outputs": [
    {
     "name": "stdout",
     "output_type": "stream",
     "text": [
      "Ave velocity between t=2 and t=2.002 seconds: 15.9680\n"
     ]
    }
   ],
   "source": [
    "a = 2.002\n",
    "b = 2\n",
    "\n",
    "difference_in_height = d.subs(t, a) - d.subs(t, b)\n",
    "time_interval = a - b\n",
    "\n",
    "average_velocity = difference_in_height / time_interval\n",
    "print(f\"Ave velocity between t={b} and t={a} seconds: {round(average_velocity,4)}\")"
   ]
  },
  {
   "cell_type": "code",
   "execution_count": 5,
   "metadata": {},
   "outputs": [
    {
     "name": "stdout",
     "output_type": "stream",
     "text": [
      "Ave velocity between t=2 and t=2.001 seconds: 15.9840\n"
     ]
    }
   ],
   "source": [
    "a = 2.001\n",
    "b = 2\n",
    "\n",
    "difference_in_height = d.subs(t, a) - d.subs(t, b)\n",
    "time_interval = a - b\n",
    "\n",
    "average_velocity = difference_in_height / time_interval\n",
    "print(f\"Ave velocity between t={b} and t={a} seconds: {round(average_velocity,4)}\")"
   ]
  },
  {
   "cell_type": "markdown",
   "metadata": {},
   "source": [
    "<div class=\"alert alert-block alert-success\"><b>Problem 6:</b> \n",
    "    \n",
    "An antibiotic is applied to a culture of bacteria. The number of bacteria cells remaining in the culture is given by $$ p(t)=13500/(7t^2+3) $$ \n",
    "    (t≥0 where t represents elapsed time in seconds.)\n",
    "    <br/>\n",
    "<br/>\n",
    "Determine the rate of change with respect to time: p'(t)=\n",
    "    \n",
    "Determine the rate of change at t=7 : cells per second. (Round your answer to 4 decimals as needed.)\n",
    "<br/>\n",
    "</div>"
   ]
  },
  {
   "cell_type": "code",
   "execution_count": 6,
   "metadata": {},
   "outputs": [
    {
     "data": {
      "text/latex": [
       "$\\displaystyle - \\frac{189000 t}{\\left(7 t^{2} + 3\\right)^{2}}$"
      ],
      "text/plain": [
       "-189000*t/(7*t**2 + 3)**2"
      ]
     },
     "metadata": {},
     "output_type": "display_data"
    },
    {
     "name": "stdout",
     "output_type": "stream",
     "text": [
      "The rate of change at t=7 is  -11.051154398743693\n"
     ]
    }
   ],
   "source": [
    "from sympy import Symbol, diff, lambdify\n",
    "from IPython.display import display\n",
    "\n",
    "t = Symbol('t')\n",
    "p = 13500/(7*t**2 + 3)\n",
    "der_f = p.diff(t)\n",
    "func_der_f = lambdify(t, der_f)\n",
    "\n",
    "\n",
    "display(der_f)\n",
    "\n",
    "print(\"The rate of change at t=7 is \",func_der_f(7))\n"
   ]
  },
  {
   "cell_type": "markdown",
   "metadata": {},
   "source": [
    "<div class=\"alert alert-block alert-success\"><b>Problem 7:</b> \n",
    "Winter Fun© has determined that the total revenue (in dollars) for its west coast factory from the sale of x Blazing Blue snowmobiles is given by\n",
    "\n",
    "$$ R(x)=2500x / {ln(5x+5)} $$\n",
    "\n",
    "Find the Marginal Revenue. Simplify as needed.\n",
    "<br/>\n",
    "\n",
    "a) R'(x)=\n",
    "<br/>\n",
    "<br/>\n",
    "Find the Marginal Revenue when 175 Blazing Blue snowmobiles are produced.\n",
    "<br/><br/>\n",
    "b) R'(175)= Round to two decimals as needed.<br/>\n",
    "</div>"
   ]
  },
  {
   "cell_type": "code",
   "execution_count": 7,
   "metadata": {},
   "outputs": [
    {
     "data": {
      "text/latex": [
       "$\\displaystyle - \\frac{12500 x}{\\left(5 x + 5\\right) \\log{\\left(5 x + 5 \\right)}^{2}} + \\frac{2500}{\\log{\\left(5 x + 5 \\right)}}$"
      ],
      "text/plain": [
       "-12500*x/((5*x + 5)*log(5*x + 5)**2) + 2500/log(5*x + 5)"
      ]
     },
     "metadata": {},
     "output_type": "display_data"
    },
    {
     "name": "stdout",
     "output_type": "stream",
     "text": [
      "Marginal Revenue when 175 Blazing Blue snowmobiles are produced = 314.66\n"
     ]
    }
   ],
   "source": [
    "from sympy import symbols, diff, lambdify, log\n",
    "from IPython.display import display\n",
    "\n",
    "x = symbols('x')\n",
    "R = (2500 * x) / log(5*x + 5)\n",
    "R_p = R.diff(x)\n",
    "func_R_p = lambdify(x,R_p)\n",
    "# a)\n",
    "display(R_p)\n",
    "\n",
    "# b)\n",
    "\n",
    "print(\"Marginal Revenue when 175 Blazing Blue snowmobiles are produced =\", round(func_R_p(175),2))\n",
    "# a = round(bmi_f(215, 6*12+2))\n",
    "# print(f\"a. BMI = {a}\")\n",
    "\n",
    "# targ_weight = (25.2 * (6*12+2)**2)/703\n",
    "# weight_loss = round(215 - targ_weight)\n",
    "# print(f\"b. The person would have to  lose {weight_loss} pounds\")\n",
    "\n",
    "# bmi_128 = (703 * 128) / h**2\n",
    "# bmi_128_der = bmi_128.diff(h)\n",
    "# print(f\"c. The rate of change with respect to height is {bmi_128_der}\")\n",
    "\n",
    "# bmi_128_der_f = lambdify(h, bmi_128_der)\n",
    "# print(f\"d. f\\'(64) = {bmi_128_der_f(64):.2f}\")  # The :.2f tells the print statement to format the value as a float with 2 decimal places."
   ]
  },
  {
   "cell_type": "markdown",
   "metadata": {},
   "source": [
    "<div class=\"alert alert-block alert-success\"><b>Problem 9:</b> The amount of funds available for a particular endowment fund (in thousands of dollars) after t years is given by:\n",
    "\n",
    "$$ f(t)=e^{(0.5t+5)} $$\n",
    "\n",
    "<br/>\n",
    "Find the rate of change in the endowment fund after 4 years. $\n",
    "<br/>\n",
    "Round your answer to two decimals as needed.\n",
    "<br/>\n",
    "<br/></div>"
   ]
  },
  {
   "cell_type": "code",
   "execution_count": 8,
   "metadata": {},
   "outputs": [
    {
     "name": "stdout",
     "output_type": "stream",
     "text": [
      "The rate of change in the endowment fund after 4 years (in thousands) = 548.32\n"
     ]
    }
   ],
   "source": [
    "from sympy import Symbol, diff, lambdify, exp\n",
    "\n",
    "t = Symbol('t')\n",
    "f = exp(0.5 * t + 5)\n",
    "f_prime = f.diff(t)\n",
    "P_prime_f = lambdify(t, f_prime)\n",
    "\n",
    "print(\"The rate of change in the endowment fund after 4 years (in thousands) =\",round(P_prime_f(4),2))"
   ]
  },
  {
   "cell_type": "markdown",
   "metadata": {},
   "source": [
    "<div class=\"alert alert-block alert-success\"><b>Problem 11:</b> \n",
    "    The labor costs to produce luxury yachts can be modeled by: \n",
    "    $$ f(x)=(x^2+7x+4)^2 $$ \n",
    "    (x represents the number of yachts produced)\n",
    "<br/>\n",
    "Find the marginal cost to produce 10 yachts \\$\n",
    "\n",
    "<br/>\n",
    "Find the marginal cost to produce 20 yachts \\$\n",
    "<br/>\n",
    "\n",
    "    \n",
    "</div>\n"
   ]
  },
  {
   "cell_type": "code",
   "execution_count": 9,
   "metadata": {},
   "outputs": [
    {
     "name": "stdout",
     "output_type": "stream",
     "text": [
      "Marginal cost to produce 10 yachts $9396\n",
      "Marginal cost to produce 20 yachts $51136\n"
     ]
    }
   ],
   "source": [
    "from sympy import symbols, diff, lambdify, log\n",
    "from IPython.display import display\n",
    "\n",
    "x = symbols('x')\n",
    "f = (x**2 + 7*x + 4)**2\n",
    "f_x = f.diff(x)\n",
    "func_f_x = lambdify(x,f_x)\n",
    "# a)\n",
    "print(\"Marginal cost to produce 10 yachts $\",func_f_x(10),sep=\"\")\n",
    "print(\"Marginal cost to produce 20 yachts $\",func_f_x(20),sep=\"\")\n",
    "# b)\n",
    "\n",
    "#print(\"Marginal Revenue when 175 Blazing Blue snowmobiles are produced =\", round(func_R_p(175),2))"
   ]
  },
  {
   "cell_type": "markdown",
   "metadata": {},
   "source": [
    "<div class=\"alert alert-block alert-success\"><b>Problem 14:</b> \n",
    "    The number of per capita cumulative cases of COVID-19 in a particular country can be modeled by the following where t represents the number of days after the first 100 cases. \n",
    "\n",
    "$$ g(t)=ln(3t^5 ) $$ \n",
    "\n",
    "(where represents the number of days after the first days.)\n",
    "<br/>\n",
    "    \n",
    "a) Find g'(t) .\n",
    "\n",
    "b) Determine the rate of change in the number of cases after 156 days.\n",
    "\n",
    "<br/>\n",
    "\n",
    "    \n",
    "</div>\n"
   ]
  },
  {
   "cell_type": "code",
   "execution_count": 10,
   "metadata": {},
   "outputs": [
    {
     "name": "stdout",
     "output_type": "stream",
     "text": [
      "5/t\n",
      "Cases per day 0.0321\n"
     ]
    }
   ],
   "source": [
    "from sympy import symbols, diff, lambdify, log\n",
    "from IPython.display import display\n",
    "\n",
    "t = symbols('t')\n",
    "g = (log(3*t**5))\n",
    "g_t = g.diff(t)\n",
    "func_g_t = lambdify(t,g_t)\n",
    "# a)\n",
    "print(g_t)\n",
    "\n",
    "# b)\n",
    "print(\"Cases per day \",round(func_g_t(156),4),sep=\"\")"
   ]
  },
  {
   "cell_type": "markdown",
   "metadata": {},
   "source": [
    "<div class=\"alert alert-block alert-success\"><b>Problem 15:</b> \n",
    "The depth (in feet) of water at a dock changes with the rise and fall of tides. The depth is modeled by the following function where t is the number of hours after midnight. \n",
    "<br/>\n",
    "\n",
    "$$ D(t)=4 sin(π/6 t+7π/6)+3 $$ \n",
    "\n",
    "Find the rate at which the depth is changing at 1 a.m.  Round your answer to 4 decimal places.\n",
    "\n",
    "<br/>\n",
    "\n",
    "    \n",
    "</div>\n",
    "\n",
    "\n"
   ]
  },
  {
   "cell_type": "code",
   "execution_count": 11,
   "metadata": {},
   "outputs": [
    {
     "name": "stdout",
     "output_type": "stream",
     "text": [
      "-2*pi*cos(pi*t/6 + pi/6)/3\n",
      "Rate at which the depth is changing at 1 a.m =-1.0472\n"
     ]
    }
   ],
   "source": [
    "from sympy import symbols, diff, lambdify, log, sin, pi\n",
    "from IPython.display import display\n",
    "\n",
    "t = symbols('t')\n",
    "d = 4*(sin((pi/6)*t + (7*pi/6)))+3\n",
    "d_prime = d.diff(t)\n",
    "func_d_prime = lambdify(t,d_prime)\n",
    "# a)\n",
    "print(d_prime)\n",
    "\n",
    "# b)\n",
    "print(\"Rate at which the depth is changing at 1 a.m =\",round(func_d_prime(1),4),sep=\"\")"
   ]
  },
  {
   "cell_type": "markdown",
   "metadata": {},
   "source": [
    "<div class=\"alert alert-block alert-success\"><b>Changes to Notebook</b></div>\n",
    "<ul>\n",
    "    <li>Added Problem 5.</li>\n",
    "</ul>"
   ]
  }
 ],
 "metadata": {
  "kernelspec": {
   "display_name": "Python 3 (ipykernel)",
   "language": "python",
   "name": "python3"
  },
  "language_info": {
   "codemirror_mode": {
    "name": "ipython",
    "version": 3
   },
   "file_extension": ".py",
   "mimetype": "text/x-python",
   "name": "python",
   "nbconvert_exporter": "python",
   "pygments_lexer": "ipython3",
   "version": "3.9.12"
  }
 },
 "nbformat": 4,
 "nbformat_minor": 1
}
