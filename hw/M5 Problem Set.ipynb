{
 "cells": [
  {
   "attachments": {},
   "cell_type": "markdown",
   "metadata": {},
   "source": [
    "# Module 5 Problem Set"
   ]
  },
  {
   "attachments": {},
   "cell_type": "markdown",
   "metadata": {},
   "source": [
    "<div class=\"alert alert-block alert-success\"><b>Problem 1: </b> \n",
    "\n",
    "Consider the function $f(x) = x^4 - 18x^2 + 11, -2 <= x <= 7$\n",
    "\n",
    "Find the absolute maximum of $f(x)$ on the given interval and the value of x where it occurs.\n",
    "\n",
    "Find the absolute minimum of $f(x)$ on the given interval and the value of x where it occurs."
   ]
  },
  {
   "cell_type": "code",
   "execution_count": 31,
   "metadata": {},
   "outputs": [
    {
     "name": "stdout",
     "output_type": "stream",
     "text": [
      "The absolute maximum of f(x) is:  1530.0\n",
      "The x-value where the maximum occurs is:  7.0\n",
      "The absolute minimum of f(x) is:  -70.0\n",
      "The x-value where the minimum occurs is:  3.0\n"
     ]
    }
   ],
   "source": [
    "import numpy as np\n",
    "\n",
    "def f(x):\n",
    "  \"\"\"\n",
    "  Calculates the value of the function f(x).\n",
    "\n",
    "  Args:\n",
    "    x: The value of x.\n",
    "\n",
    "  Returns:\n",
    "    The value of f(x).\n",
    "  \"\"\"\n",
    "\n",
    "  return x**4 - 18*x**2 + 11\n",
    "\n",
    "\n",
    "\n",
    "x_values = np.linspace(-2, 7, 100)\n",
    "f_values = f(x_values)\n",
    "\n",
    "max_value = np.max(f_values)\n",
    "min_value = np.min(f_values)\n",
    "\n",
    "max_index = np.argmax(f_values)\n",
    "min_index = np.argmin(f_values)\n",
    "\n",
    "print(\"The absolute maximum of f(x) is: \", max_value)\n",
    "print(\"The x-value where the maximum occurs is: \", x_values[max_index])\n",
    "print(\"The absolute minimum of f(x) is: \", min_value)\n",
    "print(\"The x-value where the minimum occurs is: \", x_values[min_index])"
   ]
  },
  {
   "attachments": {},
   "cell_type": "markdown",
   "metadata": {},
   "source": [
    "<div class=\"alert alert-block alert-success\"><b>Problem 2: </b> The below function has only one local max and one local min. Use the first derivative test to find where they occur:\n",
    "\n",
    "$f(x) = 2x^3 - 30x^2 + 144x - 6$"
   ]
  },
  {
   "cell_type": "code",
   "execution_count": 32,
   "metadata": {},
   "outputs": [
    {
     "name": "stdout",
     "output_type": "stream",
     "text": [
      "Local Maxima: [4]\n",
      "Local Minima: [6]\n"
     ]
    }
   ],
   "source": [
    "import sympy as sp\n",
    "\n",
    "def find_local_max_min():\n",
    "    x = sp.Symbol('x')\n",
    "    f = 2*x**3 - 30*x**2 + 144*x - 6\n",
    "\n",
    "    # Step 1: Calculate the first derivative\n",
    "    f_prime = f.diff(x)\n",
    "\n",
    "    # Step 2: Find the critical points\n",
    "    critical_points = sp.solve(f_prime, x)\n",
    "\n",
    "    local_maxima = []\n",
    "    local_minima = []\n",
    "\n",
    "    for point in critical_points:\n",
    "        # Step 3: Use the second derivative test\n",
    "        f_double_prime = f_prime.diff(x)\n",
    "        double_prime_value = f_double_prime.subs(x, point)\n",
    "\n",
    "        if double_prime_value > 0:\n",
    "            local_minima.append(point)\n",
    "        elif double_prime_value < 0:\n",
    "            local_maxima.append(point)\n",
    "\n",
    "    return local_maxima, local_minima\n",
    "\n",
    "# Call the function to find the local maxima and minima\n",
    "maxima, minima = find_local_max_min()\n",
    "\n",
    "print(\"Local Maxima:\", maxima)\n",
    "print(\"Local Minima:\", minima)"
   ]
  },
  {
   "attachments": {},
   "cell_type": "markdown",
   "metadata": {},
   "source": [
    "<div class=\"alert alert-block alert-success\"><b>Problem 6: </b>\n",
    "\n",
    "Given the function $g(x) = 6x^3 - 45x^2 + 108x$, find the first derivative, $g'(x)$, $g''(2)$. Visually verify whether the concavity and maximum at $x = 2$.\n",
    "\n"
   ]
  },
  {
   "cell_type": "code",
   "execution_count": 33,
   "metadata": {},
   "outputs": [
    {
     "name": "stdout",
     "output_type": "stream",
     "text": [
      "First derivative is 18*x**2 - 90*x + 108\n",
      "Second derivative is 36*x - 90\n",
      "g''(2) = -18\n"
     ]
    },
    {
     "data": {
      "image/png": "[encoded data removed]",
      "text/plain": [
       "<Figure size 432x288 with 1 Axes>"
      ]
     },
     "metadata": {
      "needs_background": "light"
     },
     "output_type": "display_data"
    },
    {
     "name": "stdout",
     "output_type": "stream",
     "text": [
      "We can visually verify our interpretation of concave down and a maxima\n"
     ]
    }
   ],
   "source": [
    "# 6\n",
    "from sympy import Symbol, lambdify, plotting\n",
    "\n",
    "x = Symbol('x')\n",
    "g = 6 * x **3 - 45 * x**2 + 108 * x\n",
    "# g = 7(x - 5)()\n",
    "g_first = g.diff(x)\n",
    "g_second = g_first.diff(x)\n",
    "\n",
    "print(f\"First derivative is {g_first}\")\n",
    "print(f\"Second derivative is {g_second}\")\n",
    "\n",
    "g_first_f = lambdify(x, g_first)\n",
    "g_second_f = lambdify(x, g_second)\n",
    "\n",
    "p1 = g_second_f(2)\n",
    "\n",
    "print(f\"g''(2) = {p1}\")\n",
    "\n",
    "gp = plotting.plot(g, show=False, ylim=(-1000, 1000), line_color='b', label='g', legend=True)\n",
    "gp1 = plotting.plot(g_first, show=False, line_color='r', label=\"g'\")\n",
    "gp2 = plotting.plot(g_second, show=False, line_color='g', label=\"g''\")\n",
    "\n",
    "gp.append(gp1[0])\n",
    "gp.append(gp2[0])\n",
    "gp.show()\n",
    "\n",
    "print(\"We can visually verify our interpretation of concave down and a maxima\")"
   ]
  },
  {
   "attachments": {},
   "cell_type": "markdown",
   "metadata": {},
   "source": [
    "<div class=\"alert alert-block alert-success\"><b>Problem 11: </b> <br/>\n",
    "Glorious Gadgets is a retailer of astronomy equipment. They purchase equipment from a supplier and then sell it to customers in their store. <br/>\n",
    "\n",
    "The function $C(x) = 3x + 91875x^-1 + 26250$ models their total inventory costs (in dollars) as a function of $x$ the lot size (the total number of pieces of astronomy equipment) for each of their orders from the supplier. The inventory costs include such things as purchasing, processing, shipping, and storing the equipment.\n",
    "What lot size should Glorious Gadgets order to minimize their total inventory costs? What is their minimum total inventory cost?"
   ]
  },
  {
   "cell_type": "code",
   "execution_count": 34,
   "metadata": {},
   "outputs": [
    {
     "name": "stdout",
     "output_type": "stream",
     "text": [
      "The minimum total inventory costs is 27300.0 dollars.\n",
      "The minimum lot size is 175 pieces.\n"
     ]
    }
   ],
   "source": [
    "def C(x):\n",
    "  \"\"\"\n",
    "  Calculates the total inventory costs C for a given lot size x.\n",
    "\n",
    "  Args:\n",
    "    x: The lot size.\n",
    "\n",
    "  Returns:\n",
    "    The total inventory costs C.\n",
    "  \"\"\"\n",
    "\n",
    "  return 3 * x + 91875 / x + 26250\n",
    "\n",
    "min_cost = math.inf\n",
    "min_lot_size = 0\n",
    "for x in range(1, 10000):\n",
    "    cost = C(x)\n",
    "    if cost < min_cost:\n",
    "      min_cost = cost\n",
    "      min_lot_size = x\n",
    "\n",
    "print(\"The minimum total inventory costs is\", min_cost, \"dollars.\")\n",
    "print(\"The minimum lot size is\", min_lot_size, \"pieces.\")"
   ]
  },
  {
   "attachments": {},
   "cell_type": "markdown",
   "metadata": {},
   "source": [
    "<div class=\"alert alert-block alert-success\"><b>Problem 12: </b> A company has a badly designed product, but a huge advertising budget. The product sells well when it is first introducted. However, sales fall as people switch to a better product from a competitor. Given that the monthly sales S can be modeled by\n",
    "\n",
    "$S = 200t/(t+3)^2$, where t >=0, where S is in thousands of dollars and t is in months.\n",
    "\n",
    "After how many months will sales be maximized and what will the maximum in sales be?"
   ]
  },
  {
   "cell_type": "code",
   "execution_count": 35,
   "metadata": {},
   "outputs": [
    {
     "name": "stdout",
     "output_type": "stream",
     "text": [
      "After 3.0 months, the sales will be maximized at $16.67 thousand.\n"
     ]
    }
   ],
   "source": [
    "from scipy.optimize import minimize_scalar\n",
    "\n",
    "# Define the sales function\n",
    "def sales_function(t):\n",
    "    return 200 * t / (t + 3) ** 2\n",
    "\n",
    "# Define the negative of the sales function (minimize_scalar finds minimum, so we use negative to find maximum)\n",
    "def negative_sales_function(t):\n",
    "    return -sales_function(t)\n",
    "\n",
    "# Find the value of 't' that maximizes the sales function\n",
    "result = minimize_scalar(negative_sales_function, bounds=(0, 100), method='bounded')\n",
    "\n",
    "# Extract the optimal value of 't' and corresponding maximum sales\n",
    "optimal_t = result.x\n",
    "maximum_sales = -result.fun  # Convert back to positive value\n",
    "\n",
    "# Round the values to two decimal places\n",
    "optimal_t = round(optimal_t, 2)\n",
    "maximum_sales = round(maximum_sales, 2)\n",
    "\n",
    "print(f\"After {optimal_t} months, the sales will be maximized at ${maximum_sales} thousand.\")"
   ]
  }
 ],
 "metadata": {
  "kernelspec": {
   "display_name": "base",
   "language": "python",
   "name": "python3"
  },
  "language_info": {
   "codemirror_mode": {
    "name": "ipython",
    "version": 3
   },
   "file_extension": ".py",
   "mimetype": "text/x-python",
   "name": "python",
   "nbconvert_exporter": "python",
   "pygments_lexer": "ipython3",
   "version": "3.8.3"
  },
  "orig_nbformat": 2
 },
 "nbformat": 4,
 "nbformat_minor": 2
}
