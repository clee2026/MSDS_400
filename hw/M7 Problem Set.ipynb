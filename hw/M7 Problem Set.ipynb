{
 "cells": [
  {
   "cell_type": "markdown",
   "metadata": {},
   "source": [
    "# Module 7 Problem Set"
   ]
  },
  {
   "cell_type": "markdown",
   "metadata": {},
   "source": [
    "<div class=\"alert alert-block alert-success\"><b>Problem 1:</b>Let f(x,y) = 8x - 3y + 5. Find the following values of f(x,y) for the given coordinates. <br/>\n",
    "\n",
    "(a) $f(5,6)$\n",
    "(b) $f(4,4)$ \n",
    "(c) $f(-4,1)$ \n",
    "(d) $f(0,3)$ \n",
    "    </div>\n",
    "    "
   ]
  },
  {
   "cell_type": "markdown",
   "metadata": {},
   "source": [
    "<div class=\"alert alert-block alert-info\">\n",
    "    <b>Note:</b> In most of the assignment questions we will use classes and functions from within the sympy package<br>\n",
    "    <ul><li>For some examples of how to use <i>expressions</i> and <i>symbols</i>, see the <a href=\"https://docs.sympy.org/latest/tutorial/basic_operations.html\">basic operations</a> documentation</li>\n",
    "    <li>For an in-depth primer on expressions, see <a href=\"https://docs.sympy.org/latest/tutorial/manipulation.html#tutorial-manipulation\">advanced expression manipulation</a></li>\n",
    "    <li>For pretty printing of equations using sympy, see <a href=\"https://docs.sympy.org/latest/tutorial/printing.html\">pretty printing with sympy</a>\n",
    "    </li></ul>\n",
    "</div>"
   ]
  },
  {
   "cell_type": "code",
   "execution_count": 1,
   "metadata": {},
   "outputs": [
    {
     "name": "stdout",
     "output_type": "stream",
     "text": [
      "a) f(5,6) = 27\n",
      "b) f(4,4) = 25\n",
      "c) f(-4,1) = -30\n",
      "d) f(0,3) = -4\n"
     ]
    }
   ],
   "source": [
    "from sympy import symbols\n",
    "\n",
    "# declare the symbols\n",
    "x, y = symbols('x y')\n",
    "\n",
    "# define the expression\n",
    "f = 8*x - 3*y + 5\n",
    "\n",
    "# Use the subs function to substitute the values for the x and y symbols\n",
    "print(\"a) f(5,6) =\",f.subs({x:5, y:6}))\n",
    "print(\"b) f(4,4) =\",f.subs({x:4,y:4}))\n",
    "print(\"c) f(-4,1) =\",f.subs({x:-4,y:1}))\n",
    "print(\"d) f(0,3) =\",f.subs({x:0,y:3}))"
   ]
  },
  {
   "cell_type": "markdown",
   "metadata": {},
   "source": [
    "<div class=\"alert alert-block alert-success\"><b>Problem 4: </b>Given f(x,y)=y ln(2x+3y), find\n",
    "    \n",
    "$f_x (x,y) =$\n",
    "\n",
    "$f_y (x,y) =$\n"
   ]
  },
  {
   "cell_type": "markdown",
   "metadata": {},
   "source": [
    "<div class=\"alert alert-block alert-info\"><b>Note:</b> We will use the Derivative class from python for differential calculus.\n",
    "    See <a href=\"https://docs.sympy.org/latest/tutorial/calculus.html\">Sympy calculus</a> documentation for additional examples. \n",
    "</div>"
   ]
  },
  {
   "cell_type": "code",
   "execution_count": 2,
   "metadata": {},
   "outputs": [
    {
     "name": "stdout",
     "output_type": "stream",
     "text": [
      "f_x_xy = 2*y/(2*x + 3*y)\n",
      "f_y_xy = 3*y/(2*x + 3*y) + log(2*x + 3*y)\n"
     ]
    }
   ],
   "source": [
    "# a) \n",
    "from sympy import symbols, Derivative, log, init_printing\n",
    "\n",
    "x,y= symbols('x y')\n",
    "\n",
    "# declare the function z\n",
    "fxy = y*log(2*x+3*y)\n",
    "\n",
    "# derivative expression of function f(x,y) with respect to x\n",
    "partialderiv = Derivative(fxy, x)\n",
    "\n",
    "# The derivative is evaluated by using the doit() function\n",
    "pd_fxy_x = partialderiv.doit()\n",
    "\n",
    "print(\"f_x_xy =\", pd_fxy_x)\n",
    "\n",
    "# derivative expression of function f(x,y) with respect to y\n",
    "partialderiv = Derivative(fxy, y)\n",
    "\n",
    "# The derivative is evaluated by using the doit() function\n",
    "pd_fxy_y = partialderiv.doit()\n",
    "\n",
    "print(\"f_y_xy =\", pd_fxy_y)"
   ]
  },
  {
   "cell_type": "markdown",
   "metadata": {},
   "source": [
    "<div class=\"alert alert-block alert-success\"><b>Problem 5: </b>Suppose that the manufacturing cost of a particular item is approximated by \n",
    "\n",
    "$M(x,y)=-x^6+5x^2 y^4+4y^3$ \n",
    "(where 𝑥 is the cost of materials and 𝑦 is the cost of labor.)\n",
    "\n",
    "Find the following:<br>\n",
    "\n",
    "$M_{x}(x,y)$ = <br/>\n",
    "$M_{y}{(x,y)}$ = <br/>\n",
    "$M_{xx}(x,y)$ = <br/>\n",
    "$M_{xy}(x,y)$ = <br/>\n",
    "\n",
    "</div>"
   ]
  },
  {
   "cell_type": "code",
   "execution_count": 3,
   "metadata": {},
   "outputs": [
    {
     "name": "stdout",
     "output_type": "stream",
     "text": [
      "Mx =  -6*x**5 + 10*x*y**4\n",
      "My =  20*x**2*y**3 + 12*y**2\n",
      "Mxx =  10*(-3*x**4 + y**4)\n",
      "Mxy =  40*x*y**3\n"
     ]
    }
   ],
   "source": [
    "from sympy import symbols, Derivative\n",
    "\n",
    "x,y= symbols('x y')\n",
    "\n",
    "M = -x**6 + 5*x**2*y**4 + 4*y**3\n",
    "\n",
    "# The third parameter in the Derivative function '2' specifies the degree of differentiation. \n",
    "# The default is the '1' degree of differentiation\n",
    "Mx = Derivative(M,x).doit()\n",
    "print(\"Mx = \",Mx)\n",
    "My = Derivative(M,y).doit()\n",
    "print(\"My = \",My)\n",
    "Mxx = Derivative(M,x,2).doit()\n",
    "print(\"Mxx = \",Mxx)\n",
    "Mxy = Derivative(Derivative(M,y),x).doit()\n",
    "print(\"Mxy = \",Mxy)"
   ]
  },
  {
   "cell_type": "markdown",
   "metadata": {},
   "source": [
    "<div class=\"alert alert-block alert-success\"><b>Problem 10: </b>Suppose that f(x,y)= 2x<sup>4</sup> + 2y<sup>4</sup> - xy<br>\n",
    "\n",
    "Then the minimum value of f is: __<br/>\n",
    "<br/>\n",
    "Round your answer to four decimal places as needed.<br/>\n",
    "\n",
    "</div>"
   ]
  },
  {
   "cell_type": "code",
   "execution_count": 4,
   "metadata": {},
   "outputs": [
    {
     "data": {
      "text/latex": [
       "$\\displaystyle 2 x^{4} - x y + 2 y^{4}$"
      ],
      "text/plain": [
       "2*x**4 - x*y + 2*y**4"
      ]
     },
     "metadata": {},
     "output_type": "display_data"
    },
    {
     "name": "stdout",
     "output_type": "stream",
     "text": [
      "Critical points: [(0, 0), (-sqrt(2)/4, -sqrt(2)/4), (sqrt(2)/4, sqrt(2)/4), (-sqrt(2)*I/4, sqrt(2)*I/4), (sqrt(2)*I/4, -sqrt(2)*I/4), (-1/4 - I/4, 1/4 - I/4), (-1/4 + I/4, 1/4 + I/4), (1/4 - I/4, -1/4 - I/4), (1/4 + I/4, -1/4 + I/4)]\n",
      "\n",
      "Real Critical Points:\n",
      "[(0, 0), (-sqrt(2)/4, -sqrt(2)/4), (sqrt(2)/4, sqrt(2)/4)]\n"
     ]
    },
    {
     "data": {
      "text/plain": [
       "[((0, 0), 'Saddle Point', 0),\n",
       " ((-sqrt(2)/4, -sqrt(2)/4), 'Minimum', -1/16),\n",
       " ((sqrt(2)/4, sqrt(2)/4), 'Minimum', -1/16)]"
      ]
     },
     "execution_count": 4,
     "metadata": {},
     "output_type": "execute_result"
    }
   ],
   "source": [
    "from sympy import symbols, solve, diff\n",
    "from sympy.abc import x, y\n",
    "\n",
    "# Define the function\n",
    "f = 2*x**4 + 2*y**4 - x*y\n",
    "display(f)\n",
    "\n",
    "# Calculate the first derivatives\n",
    "df_dx = diff(f, x)\n",
    "df_dy = diff(f, y)\n",
    "\n",
    "# Solve for critical points\n",
    "critical_points = solve((df_dx, df_dy), (x, y))\n",
    "print(\"Critical points:\", critical_points)\n",
    "\n",
    "real_critical_points=[]\n",
    "\n",
    "if isinstance(critical_points, dict):\n",
    "    # Extract the solution\n",
    "    x_sol = critical_points[x]\n",
    "    y_sol = critical_points[y]\n",
    "    # Check if both solutions are real\n",
    "    if x_sol.is_real and y_sol.is_real:\n",
    "        real_critical_points.append((x_sol, y_sol))\n",
    "\n",
    "# Check if the solution is a list (multiple solutions)\n",
    "elif isinstance(critical_points, list):\n",
    "    # Loop through each solution tuple\n",
    "    for sol in critical_points:\n",
    "        # Check if all coordinates in the tuple are real\n",
    "        if all(coord.is_real for coord in sol):\n",
    "            real_critical_points.append(sol)    \n",
    "  \n",
    "print()\n",
    "print(\"Real Critical Points:\")\n",
    "print(real_critical_points)\n",
    "\n",
    "# Calculate the second derivatives and the discriminant\n",
    "d2f_dx2 = diff(df_dx, x)\n",
    "d2f_dy2 = diff(df_dy, y)\n",
    "d2f_dxdy = diff(df_dx, y)\n",
    "d2f_dydx = diff(df_dy, x)\n",
    "D = d2f_dx2 * d2f_dy2 - d2f_dxdy * d2f_dydx\n",
    "\n",
    "# Classify each critical point\n",
    "classified_points = []\n",
    "\n",
    "for point in real_critical_points:\n",
    "    if not isinstance(point, tuple):  # Handle non-tuple solutions\n",
    "        point = (point, 0)\n",
    "\n",
    "    x_val, y_val = point\n",
    "    if not (x_val.is_real and y_val.is_real):\n",
    "        continue  # Skip non-real solutions\n",
    "\n",
    "    D_value = D.subs({x: x_val, y: y_val})\n",
    "    d2f_dx2_value = d2f_dx2.subs({x: x_val, y: y_val})\n",
    "\n",
    "    if D_value > 0:\n",
    "        if d2f_dx2_value > 0:\n",
    "            point_type = \"Minimum\"\n",
    "        else:\n",
    "            point_type = \"Maximum\"\n",
    "    elif D_value < 0:\n",
    "        point_type = \"Saddle Point\"\n",
    "    else:\n",
    "        point_type = \"Indeterminate\"\n",
    "\n",
    "    classified_points.append((point, point_type, f.subs({x: x_val, y: y_val})))\n",
    "\n",
    "classified_points\n"
   ]
  },
  {
   "cell_type": "code",
   "execution_count": 5,
   "metadata": {},
   "outputs": [
    {
     "name": "stdout",
     "output_type": "stream",
     "text": [
      "f((0, 0)) = 0\n",
      "f((-sqrt(2)/4, -sqrt(2)/4)) = -1/16\n",
      "f((sqrt(2)/4, sqrt(2)/4)) = -1/16\n"
     ]
    }
   ],
   "source": [
    "# Evaluate the function at each point\n",
    "for point in real_critical_points:\n",
    "    value = f.subs({x: point[0], y: point[1]})\n",
    "    print(f\"f({point}) = {value}\")"
   ]
  },
  {
   "cell_type": "markdown",
   "metadata": {},
   "source": [
    "\n",
    "<div class=\"alert alert-block alert-success\"><b> Problem 14.</b>\n",
    "A firm manufactures a commodity at two different factories, Factory X and Factory Y. The total cost (in dollars) of manufacturing depends on the quantities, x and y produced at each factory, respectively, and is expressed by the joint cost function:\n",
    "\n",
    "$C(x,y)=2x^2+xy+4y^2+1000$\n",
    "<br/><br/>\n",
    "\n",
    "A) If the company's objective is to produce 1,700 units per month while minimizing the total monthly cost of production, how many units should be produced at each factory? (Round your answer to whole units, i.e. no decimal places.)\n",
    "<br/><br/>\n",
    "To minimize costs, the company should produce:\n",
    "at Factory X and\n",
    "at Factory Y\n",
    "<br/><br/>\n",
    "B) For this combination of units, their minimal costs will be dollars. (Do not enter any commas in your answer.)\n",
    "<br/><br/>\n",
    "</div>"
   ]
  },
  {
   "cell_type": "markdown",
   "metadata": {},
   "source": [
    "<div class=\"alert alert-block alert-info\"><b>Note:</b> <br>\n",
    "    We use the <i>solve</i> function from sympy <i>solvers</i> to solve for the values of x and y. <br>\n",
    "    For more information on solvers see <a href=\"https://docs.sympy.org/latest/modules/solvers/solvers.html\">sympy solvers documentation</a>.\n",
    "</div>"
   ]
  },
  {
   "cell_type": "code",
   "execution_count": 6,
   "metadata": {},
   "outputs": [
    {
     "name": "stdout",
     "output_type": "stream",
     "text": [
      "y = 510\n",
      "x = 1190\n",
      "Minimal costs will be $ 4480500\n"
     ]
    }
   ],
   "source": [
    "from sympy import symbols, Derivative\n",
    "from sympy.solvers import solve \n",
    "from mpmath import pi\n",
    "\n",
    "x, y = symbols('x y')\n",
    "# x + y = 1700\n",
    "x = 1700 - y\n",
    "\n",
    "# Plug in the equation of p in the z equation\n",
    "C = 2*(1700-y)**2 + (1700-y)*y + 4*y**2 + 1000\n",
    "dC = Derivative(C, y).doit()\n",
    "\n",
    "# To calculate the minimum total we have to find where dC = 0\n",
    "# We will use the equation of dC above and the sympy solve function to \n",
    "# solve for y\n",
    "y_value = solve(dC, y)\n",
    "print(\"y =\", round(y_value[0]))\n",
    "\n",
    "# Calculate p by substituting the value for r\n",
    "x_value = x.subs({y:y_value[0]})\n",
    "print(\"x =\",round(x_value))\n",
    "\n",
    "# Calculate z by substituting the value for r\n",
    "C_value = C.subs({y:y_value[0]})\n",
    "#print(\"C = \",round(C_value[0]))\n",
    "print(\"Minimal costs will be $\",C_value)"
   ]
  },
  {
   "cell_type": "markdown",
   "metadata": {},
   "source": [
    "\n",
    "<div class=\"alert alert-block alert-success\"><b> Problem 15.</b>\n",
    "A chemical manufacturing plant can produce z units of chemical Z given p units of chemical P and r units of chemical R, where:\n",
    "\n",
    "\n",
    "$z=120p^.6 r^.4 $\n",
    "<br/><br/>\n",
    "\n",
    "Chemical P costs \\\\$300 a unit and chemical R costs \\\\$1,800 a unit. The company wants to produce as many units of chemical Z as possible with a total budget of \\\\$135,000.\n",
    "<br/><br/>\n",
    "A) How many units each chemical (P and R) should be \"purchased\" to maximize production of chemical Z subject to the budgetary constraint?\n",
    "<br/><br/>\n",
    "Units of chemical P, p =\n",
    "<br/><br/>\n",
    "Units of chemical R, r =\n",
    "<br/><br/>\n",
    "B) What is the maximum number of units of chemical Z under the given budgetary conditions? (Round your answer to the nearest whole unit.)\n",
    "<br/>\n",
    "Max production, z = units\n",
    "<br/>\n",
    "</div>"
   ]
  },
  {
   "cell_type": "code",
   "execution_count": 7,
   "metadata": {},
   "outputs": [
    {
     "name": "stdout",
     "output_type": "stream",
     "text": [
      "r = 30\n",
      "p = 270\n",
      "z =  13454\n"
     ]
    }
   ],
   "source": [
    "from sympy import symbols, Derivative\n",
    "from sympy.solvers import solve \n",
    "from mpmath import pi\n",
    "\n",
    "p, r = symbols('p r')\n",
    "p = 450 - 6*r\n",
    "\n",
    "# Plug in the equation of p in the z equation\n",
    "z = 120*(450-6*r)**0.6*r**0.4\n",
    "dz = Derivative(z, r).doit()\n",
    "\n",
    "# To calculate the maximum we have to find where dz = 0\n",
    "# We will use the equation of dz above and the sympy solve function to \n",
    "# solve for r\n",
    "r_value = solve(dz, r)\n",
    "print(\"r =\", round(r_value[0]))\n",
    "\n",
    "# Calculate p by substituting the value for r\n",
    "p_value = p.subs({r:r_value[0]})\n",
    "print(\"p =\",round(p_value))\n",
    "\n",
    "# Calculate z by substituting the value for r\n",
    "z_value = z.subs({r:r_value[0]})\n",
    "print(\"z = \",round(z_value))"
   ]
  },
  {
   "cell_type": "markdown",
   "metadata": {},
   "source": [
    "<div class=\"alert alert-block alert-success\"><b>Changes to Notebook</b></div>\n",
    "<ul>\n",
    "    <li>Added Problem 10</li>\n",
    "</ul>"
   ]
  },
  {
   "cell_type": "code",
   "execution_count": null,
   "metadata": {},
   "outputs": [],
   "source": []
  }
 ],
 "metadata": {
  "kernelspec": {
   "display_name": "Python 3 (ipykernel)",
   "language": "python",
   "name": "python3"
  },
  "language_info": {
   "codemirror_mode": {
    "name": "ipython",
    "version": 3
   },
   "file_extension": ".py",
   "mimetype": "text/x-python",
   "name": "python",
   "nbconvert_exporter": "python",
   "pygments_lexer": "ipython3",
   "version": "3.9.12"
  },
  "varInspector": {
   "cols": {
    "lenName": 16,
    "lenType": 16,
    "lenVar": 40
   },
   "kernels_config": {
    "python": {
     "delete_cmd_postfix": "",
     "delete_cmd_prefix": "del ",
     "library": "var_list.py",
     "varRefreshCmd": "print(var_dic_list())"
    },
    "r": {
     "delete_cmd_postfix": ") ",
     "delete_cmd_prefix": "rm(",
     "library": "var_list.r",
     "varRefreshCmd": "cat(var_dic_list()) "
    }
   },
   "types_to_exclude": [
    "module",
    "function",
    "builtin_function_or_method",
    "instance",
    "_Feature"
   ],
   "window_display": false
  }
 },
 "nbformat": 4,
 "nbformat_minor": 1
}
