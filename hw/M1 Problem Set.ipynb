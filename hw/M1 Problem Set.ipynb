{
 "cells": [
  {
   "attachments": {},
   "cell_type": "markdown",
   "metadata": {},
   "source": [
    "# Module 1 Problem Set"
   ]
  },
  {
   "attachments": {},
   "cell_type": "markdown",
   "metadata": {},
   "source": [
    "\n",
    "<div class=\"alert alert-block alert-success\"><b>Problem 1</b></div>\n",
    "\n",
    "Graph the following:\n",
    "$$ y = -2x + 4 $$"
   ]
  },
  {
   "attachments": {},
   "cell_type": "markdown",
   "metadata": {},
   "source": [
    "Install python packages"
   ]
  },
  {
   "cell_type": "code",
   "execution_count": 3,
   "metadata": {},
   "outputs": [
    {
     "name": "stdout",
     "output_type": "stream",
     "text": [
      "Requirement already satisfied: matplotlib in c:\\programdata\\anaconda3\\lib\\site-packages (3.5.1)\n",
      "Requirement already satisfied: numpy in c:\\programdata\\anaconda3\\lib\\site-packages (1.23.5)\n",
      "Requirement already satisfied: pyparsing>=2.2.1 in c:\\programdata\\anaconda3\\lib\\site-packages (from matplotlib) (2.4.7)\n",
      "Requirement already satisfied: cycler>=0.10 in c:\\programdata\\anaconda3\\lib\\site-packages (from matplotlib) (0.10.0)\n",
      "Requirement already satisfied: fonttools>=4.22.0 in c:\\programdata\\anaconda3\\lib\\site-packages (from matplotlib) (4.37.3)\n",
      "Requirement already satisfied: pillow>=6.2.0 in c:\\users\\asingh\\appdata\\roaming\\python\\python38\\site-packages (from matplotlib) (9.5.0)\n",
      "Requirement already satisfied: packaging>=20.0 in c:\\programdata\\anaconda3\\lib\\site-packages (from matplotlib) (20.4)\n",
      "Requirement already satisfied: kiwisolver>=1.0.1 in c:\\programdata\\anaconda3\\lib\\site-packages (from matplotlib) (1.2.0)\n",
      "Requirement already satisfied: python-dateutil>=2.7 in c:\\programdata\\anaconda3\\lib\\site-packages (from matplotlib) (2.8.1)\n",
      "Requirement already satisfied: six in c:\\programdata\\anaconda3\\lib\\site-packages (from cycler>=0.10->matplotlib) (1.15.0)\n"
     ]
    }
   ],
   "source": [
    "!pip install matplotlib numpy"
   ]
  },
  {
   "cell_type": "code",
   "execution_count": 4,
   "metadata": {},
   "outputs": [
    {
     "data": {
      "image/png": "[encoded data removed]",
      "text/plain": [
       "<Figure size 432x288 with 1 Axes>"
      ]
     },
     "metadata": {
      "needs_background": "light"
     },
     "output_type": "display_data"
    }
   ],
   "source": [
    "import matplotlib.pyplot as plt\n",
    "import numpy as np\n",
    "\n",
    "# Define the equation function\n",
    "def equation(x):\n",
    "    return -2*x + 4\n",
    "\n",
    "# Generate x values from -5 to 5 (this can be adjusted)\n",
    "x = np.linspace(-5, 5, 100)\n",
    "\n",
    "# Calculate corresponding y values using the equation function\n",
    "y = equation(x)\n",
    "\n",
    "# Add x-axis and y-axis lines\n",
    "plt.axhline(y=0, color='green', linewidth=2)  # Horizontal line at y=0\n",
    "plt.axvline(x=0, color='green', linewidth=2)  # Vertical line at x=0\n",
    "\n",
    "# Plot the graph\n",
    "plt.plot(x, y, label=\"y = -2x + 4\")\n",
    "\n",
    "# Add labels and title\n",
    "plt.xlabel(\"x-axis\")\n",
    "plt.ylabel(\"y-axis\")\n",
    "plt.title(\"Graph of y = -2x + 4\")\n",
    "\n",
    "# Add a grid for better readability\n",
    "plt.grid(True)\n",
    "\n",
    "# Add a legend\n",
    "plt.legend()\n",
    "\n",
    "# Show the graph\n",
    "plt.show()"
   ]
  },
  {
   "attachments": {},
   "cell_type": "markdown",
   "metadata": {
    "collapsed": false
   },
   "source": [
    "<div class=\"alert alert-block alert-success\"><b>Problem 4: </b></div>\n",
    "\n",
    "Given two points (3,-7) and (10,2) on a line, answer the following questions.\n",
    "\n",
    " on a line, answer the following questions.\n",
    "\n",
    "a.) What is the slope? \n",
    "\n",
    "b.) What is the y-intercept? \n",
    "\n",
    "c.) What is the slope-intercept form of the equation?\n"
   ]
  },
  {
   "cell_type": "code",
   "execution_count": 1,
   "metadata": {
    "collapsed": false
   },
   "outputs": [
    {
     "name": "stdout",
     "output_type": "stream",
     "text": [
      "Slope: 1.2857142857142858\n",
      "Y-intercept: -10.857142857142858\n",
      "Slope-intercept form of the equation: y = 1.29x + -10.86\n"
     ]
    }
   ],
   "source": [
    "# Given points\n",
    "x1, y1 = 3, -7\n",
    "x2, y2 = 10, 2\n",
    "\n",
    "# Calculate the slope\n",
    "slope = (y2 - y1) / (x2 - x1)\n",
    "\n",
    "# Calculate the y-intercept\n",
    "y_intercept = y1 - slope * x1\n",
    "\n",
    "# Write the slope-intercept form of the equation\n",
    "equation = f\"y = {slope:.2f}x + {y_intercept:.2f}\"\n",
    "\n",
    "# Display the results\n",
    "print(\"Slope:\", slope)\n",
    "print(\"Y-intercept:\", y_intercept)\n",
    "print(\"Slope-intercept form of the equation:\", equation)"
   ]
  },
  {
   "attachments": {},
   "cell_type": "markdown",
   "metadata": {},
   "source": [
    "<div class=\"alert alert-block alert-success\"><b>Problem 4 Alternate Solution using functions</b></div>"
   ]
  },
  {
   "cell_type": "code",
   "execution_count": 6,
   "metadata": {},
   "outputs": [
    {
     "name": "stdout",
     "output_type": "stream",
     "text": [
      "Slope: 1.29\n",
      "Y-intercept: -10.87\n",
      "Equation: y = 1.29x + -10.87\n"
     ]
    }
   ],
   "source": [
    "def slope(point1, point2):\n",
    "  \"\"\"\n",
    "  Calculates the slope of a line given two points.\n",
    "\n",
    "  Args:\n",
    "    point1: A tuple of the coordinates of the first point.\n",
    "    point2: A tuple of the coordinates of the second point.\n",
    "\n",
    "  Returns:\n",
    "    The slope of the line.\n",
    "  \"\"\"\n",
    "\n",
    "  x1, y1 = point1\n",
    "  x2, y2 = point2\n",
    "  return round((y2 - y1) / (x2 - x1),2)\n",
    "\n",
    "def y_intercept(point1, slope):\n",
    "  \"\"\"\n",
    "  Calculates the y-intercept of a line given a point and the slope.\n",
    "\n",
    "  Args:\n",
    "    point1: A tuple of the coordinates of the point.\n",
    "    slope: The slope of the line.\n",
    "\n",
    "  Returns:\n",
    "    The y-intercept of the line.\n",
    "  \"\"\"\n",
    "\n",
    "  x, y = point1\n",
    "  return round(y - slope * x,2) \n",
    "\n",
    "def slope_intercept_form(point1, slope):\n",
    "  \"\"\"\n",
    "  Calculates the slope-intercept form of the equation of a line given a point and the slope.\n",
    "\n",
    "  Args:\n",
    "    point1: A tuple of the coordinates of the point.\n",
    "    slope: The slope of the line.\n",
    "\n",
    "  Returns:\n",
    "    The slope-intercept form of the equation of the line.\n",
    "  \"\"\"\n",
    "\n",
    "  y_intercept_val = y_intercept(point1, slope)\n",
    "  return \"y = \" + str(slope) + \"x + \" + str(y_intercept_val)\n",
    "\n",
    "if __name__ == \"__main__\":\n",
    "  point1 = (3, -7)\n",
    "  point2 = (10, 2)\n",
    "  slope = slope(point1, point2)\n",
    "  y_intercept_val = y_intercept(point1, slope)\n",
    "  equation = slope_intercept_form(point1, slope)\n",
    "  print(\"Slope: \" + str(slope))\n",
    "  print(\"Y-intercept: \" + str(y_intercept_val))\n",
    "  print(\"Equation: \" + equation)"
   ]
  },
  {
   "attachments": {},
   "cell_type": "markdown",
   "metadata": {},
   "source": [
    "<div class=\"alert alert-block alert-success\"><b>Problem 9:</b></div>\n",
    "\n",
    "Solve the system of equations by graphing:\n",
    "\n",
    "$$ -x + y = 4 $$\n",
    "$$ 6x + 3y = -6 $$"
   ]
  },
  {
   "attachments": {},
   "cell_type": "markdown",
   "metadata": {},
   "source": [
    "Plotting equations"
   ]
  },
  {
   "cell_type": "code",
   "execution_count": 7,
   "metadata": {},
   "outputs": [
    {
     "data": {
      "image/png": "[encoded data removed]",
      "text/plain": [
       "<Figure size 432x288 with 1 Axes>"
      ]
     },
     "metadata": {
      "needs_background": "light"
     },
     "output_type": "display_data"
    }
   ],
   "source": [
    "import matplotlib.pyplot as plt\n",
    "\n",
    "# Equation 1: -x + y = 4\n",
    "# We can rewrite this equation as y = x + 4\n",
    "\n",
    "# Equation 2: 6x + 3y = -6\n",
    "# We can rewrite this equation as y = (-6 - 6x) / 3 or y = -2 - 2x\n",
    "\n",
    "# Define the equations as functions\n",
    "def equation_1(x):\n",
    "    return x + 4\n",
    "\n",
    "def equation_2(x):\n",
    "    return -2 - 2*x\n",
    "\n",
    "# Generate x values for plotting\n",
    "x_values = list(range(-10, 11))\n",
    "\n",
    "# Calculate corresponding y values for each equation\n",
    "y_values_eq1 = [equation_1(x) for x in x_values]\n",
    "y_values_eq2 = [equation_2(x) for x in x_values]\n",
    "\n",
    "# Plot the two lines\n",
    "plt.plot(x_values, y_values_eq1, label='-x + y = 4')\n",
    "plt.plot(x_values, y_values_eq2, label='6x + 3y = -6')\n",
    "\n",
    "# Set labels and title\n",
    "plt.xlabel('x')\n",
    "plt.ylabel('y')\n",
    "plt.title('Graphical Solution of the System of Equations')\n",
    "\n",
    "# Add a legend\n",
    "plt.legend()\n",
    "\n",
    "# Show the plot\n",
    "plt.grid(True)\n",
    "plt.axhline(0, color='black', linewidth=0.5)\n",
    "plt.axvline(0, color='black', linewidth=0.5)\n",
    "plt.show()"
   ]
  },
  {
   "attachments": {},
   "cell_type": "markdown",
   "metadata": {},
   "source": [
    "Solving system of equations"
   ]
  },
  {
   "cell_type": "code",
   "execution_count": 8,
   "metadata": {},
   "outputs": [
    {
     "name": "stdout",
     "output_type": "stream",
     "text": [
      "-2 is supposed to be -2\n",
      "2 is supposed to be 2\n"
     ]
    }
   ],
   "source": [
    "import sympy as sym\n",
    "# Use sympy package to display the equation\n",
    "sym.init_printing()\n",
    "#sym.solve()\n",
    "x,y = sym.symbols('x,y')\n",
    "\n",
    "solns = sym.solve([\n",
    "    -x + y - 4 , \n",
    "    6*x + 3*y + 6],\n",
    "    [x, y])\n",
    "print(f\"{solns[x]} is supposed to be -2\")\n",
    "print(f\"{solns[y]} is supposed to be 2\")"
   ]
  },
  {
   "attachments": {},
   "cell_type": "markdown",
   "metadata": {
    "collapsed": false
   },
   "source": [
    "<div class=\"alert alert-block alert-success\"><b>Problem 10:</b></div>\n",
    "\n",
    "Solve the system of equations:\n",
    "\n",
    "$$ 3x - 6y = 9 $$\n",
    "$$ -2x + 5y = -8 $$"
   ]
  },
  {
   "cell_type": "code",
   "execution_count": 9,
   "metadata": {
    "collapsed": false
   },
   "outputs": [
    {
     "name": "stdout",
     "output_type": "stream",
     "text": [
      "-1 is supposed to be -1\n",
      "-2 is supposed to be -2\n"
     ]
    }
   ],
   "source": [
    "import sympy as sym\n",
    "# Use sympy package to display the equation\n",
    "sym.init_printing()\n",
    "#sym.solve()\n",
    "x,y = sym.symbols('x,y')\n",
    "\n",
    "solns = sym.solve([\n",
    "    3*x - 6*y - 9 , \n",
    "    -2*x + 5*y + 8],\n",
    "    [x, y])\n",
    "print(f\"{solns[x]} is supposed to be -1\")\n",
    "print(f\"{solns[y]} is supposed to be -2\")"
   ]
  },
  {
   "cell_type": "markdown",
   "metadata": {},
   "source": [
    "<div class=\"alert alert-block alert-success\"><b>Problem 11:</b></div>\n",
    "\n",
    "In 1982, the US Mint changed the composition of pennies from all copper to zinc with copper coating. Pennies made prior to 1982 weigh 3.1 grams. Pennies made since 1982 weighed 2.5 grams. \n",
    "Suppose you have a bag of 1332 pennies, and the bag weighs 3715.2 grams.\n",
    "\n",
    "Let $x$ represent the number of pennies made prior to 1982 and let $y$ represent the number of pennies made after 1982. Set up the system of equations."
   ]
  },
  {
   "cell_type": "code",
   "execution_count": 8,
   "metadata": {},
   "outputs": [
    {
     "name": "stdout",
     "output_type": "stream",
     "text": [
      "642 is supposed to be 642\n",
      "690 is supposed to be 690\n"
     ]
    }
   ],
   "source": [
    "import sympy as sym\n",
    "# Use sympy package to display the equation\n",
    "sym.init_printing()\n",
    "\n",
    "x,y = sym.symbols('x,y')\n",
    "\n",
    "# System of equations \n",
    "# x + y = 1332\n",
    "# 3.1x + 2.5y = 3715.2\n",
    "solns = sym.solve([\n",
    "    x + y - 1332 , \n",
    "    3.1*x + 2.5*y - 3715.2],\n",
    "    [x, y])\n",
    "print(f\"{round(solns[x])} is supposed to be 642\")\n",
    "print(f\"{round(solns[y])} is supposed to be 690\")"
   ]
  },
  {
   "cell_type": "markdown",
   "metadata": {},
   "source": [
    "<div class=\"alert alert-block alert-success\"><b>Problem 12:</b></div>\n",
    "\n",
    "Alphonso goes to a fast food restaurant and orders some tacos and burritos. He sees on the nutrition menu that tacos are 210 calories and burritos are 580 calories. Suppose he ordered 3 items and consumed a total of 1370 calories.\n",
    "\n",
    "Let $t$ be the number of tacos eaten and let $b$ be the number of burritos eaten. Set up the system of equations.\n",
    "\n",
    "Write the equation for the total number of tacos and burritos eaten."
   ]
  },
  {
   "cell_type": "code",
   "execution_count": 22,
   "metadata": {},
   "outputs": [
    {
     "name": "stdout",
     "output_type": "stream",
     "text": [
      "Number of tacos:    1\n",
      "Number of burritos: 2\n"
     ]
    }
   ],
   "source": [
    "import sympy as sym\n",
    "# Use sympy package to display the equation\n",
    "sym.init_printing()\n",
    "\n",
    "t,b = sym.symbols('t,b')\n",
    "\n",
    "# System of equations \n",
    "# t + b = 3\n",
    "# 210t + 580b = 1370\n",
    "solns = sym.solve([\n",
    "    t + b - 3 , \n",
    "    210*t + 580*b - 1370],\n",
    "    [t, b])\n",
    "print(f\"Number of tacos:    {round(solns[t])}\")\n",
    "print(f\"Number of burritos: {round(solns[b])}\")"
   ]
  },
  {
   "cell_type": "markdown",
   "metadata": {},
   "source": [
    "<div class=\"alert alert-block alert-success\"><b>Problem 14:</b></div>\n",
    "\n",
    "Consider the system of linear equations\n",
    "\n",
    "$5x - 5y = -1$\n",
    "\n",
    "$-x + 3y = 1$\n",
    "\n",
    "Find the solution to the system.\n"
   ]
  },
  {
   "cell_type": "code",
   "execution_count": 19,
   "metadata": {},
   "outputs": [
    {
     "name": "stdout",
     "output_type": "stream",
     "text": [
      "x = 0.2\n",
      "y = 0.4\n"
     ]
    }
   ],
   "source": [
    "import sympy as sym\n",
    "# Use sympy package to display the equation\n",
    "sym.init_printing()\n",
    "\n",
    "x,y,z = sym.symbols('x,y,z')\n",
    "\n",
    "solns = sym.solve([\n",
    "    5*x - 5*y + 1, \n",
    "    -x + 3*y - 1\n",
    "    ],\n",
    "    [x, y])\n",
    "\n",
    "print(f\"x = {round(solns[x],1)}\")\n",
    "print(f\"y = {round(solns[y],1)}\")"
   ]
  }
 ],
 "metadata": {
  "kernelspec": {
   "display_name": "base",
   "language": "python",
   "name": "python3"
  },
  "language_info": {
   "codemirror_mode": {
    "name": "ipython",
    "version": 3
   },
   "file_extension": ".py",
   "mimetype": "text/x-python",
   "name": "python",
   "nbconvert_exporter": "python",
   "pygments_lexer": "ipython3",
   "version": "3.8.3"
  },
  "varInspector": {
   "cols": {
    "lenName": 16,
    "lenType": 16,
    "lenVar": 40
   },
   "kernels_config": {
    "python": {
     "delete_cmd_postfix": "",
     "delete_cmd_prefix": "del ",
     "library": "var_list.py",
     "varRefreshCmd": "print(var_dic_list())"
    },
    "r": {
     "delete_cmd_postfix": ") ",
     "delete_cmd_prefix": "rm(",
     "library": "var_list.r",
     "varRefreshCmd": "cat(var_dic_list()) "
    }
   },
   "types_to_exclude": [
    "module",
    "function",
    "builtin_function_or_method",
    "instance",
    "_Feature"
   ],
   "window_display": false
  }
 },
 "nbformat": 4,
 "nbformat_minor": 4
}
