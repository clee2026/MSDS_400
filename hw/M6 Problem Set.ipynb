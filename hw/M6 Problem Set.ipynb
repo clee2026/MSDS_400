{
 "cells": [
  {
   "cell_type": "markdown",
   "metadata": {},
   "source": [
    "# Module 6 Problem Set"
   ]
  },
  {
   "cell_type": "markdown",
   "metadata": {},
   "source": [
    "<div class=\"alert alert-block alert-success\"><b>Problem 3:</b>\n",
    "Evaluate the following integral:\n",
    "\n",
    "$$\\int_{\\sqrt{2}}^1(u^7/4 - 1/u^5) \\,du$$\n",
    "\n",
    "</div>"
   ]
  },
  {
   "cell_type": "code",
   "execution_count": 1,
   "metadata": {},
   "outputs": [
    {
     "name": "stdout",
     "output_type": "stream",
     "text": [
      "The evaluated integral is: -9/32\n"
     ]
    }
   ],
   "source": [
    "import sympy as sp\n",
    "\n",
    "# Define the variable and the integrand\n",
    "u = sp.Symbol('u')\n",
    "integrand = u**7/4 - 1/u**5\n",
    "\n",
    "# Calculate the definite integral\n",
    "result = sp.integrate(integrand, (u, sp.sqrt(2), 1))\n",
    "\n",
    "# Print the result\n",
    "print(\"The evaluated integral is:\", result)\n"
   ]
  },
  {
   "cell_type": "markdown",
   "metadata": {},
   "source": [
    "<div class=\"alert alert-block alert-success\"><b>Problem 5:</b>\n",
    "The traffic flow rate (cars per hour) across an intersection is modeled r(t)=300+900t-270t^2 , where t represents the number of hours since 6 am. How many cars pass through the intersection between 6 am and 9 am?\n",
    "\n",
    "</div>"
   ]
  },
  {
   "cell_type": "code",
   "execution_count": 2,
   "metadata": {},
   "outputs": [
    {
     "name": "stdout",
     "output_type": "stream",
     "text": [
      "2520 cars\n"
     ]
    }
   ],
   "source": [
    "from sympy import Symbol, integrate\n",
    "# https://docs.sympy.org/latest/tutorial/calculus.html?highlight=calculus#integrals\n",
    "t = Symbol('t')\n",
    "r_t = 300 + 900*t - 270*t**2\n",
    "\n",
    "flow_rate = integrate(r_t, (t,0,3))\n",
    "# a = integrate(r_prime, (t, 0, 1))\n",
    "print(f\"{flow_rate} cars\")"
   ]
  },
  {
   "cell_type": "markdown",
   "metadata": {},
   "source": [
    "<div class=\"alert alert-block alert-success\"><b>Problem 6:</b>\n",
    "The rate of reaction for a certain drug in the appropriate units is given by\n",
    "\n",
    "$$R'(t)=6/(t+1)+3/√(t+1)$$\n",
    "\n",
    "where t is time (in hours) after the drug is administered. Find the total reaction to the drug over the following time periods. Round your answers to three decimal places as needed.\n",
    "\n",
    "From t=1 hour to t=6 hours, the total reaction of the drug is units.\n",
    "\n",
    "From t=6 hours to t=24 hours, the total reaction of the drug is units.\n",
    "\n",
    "</div>"
   ]
  },
  {
   "cell_type": "code",
   "execution_count": 3,
   "metadata": {},
   "outputs": [],
   "source": [
    "from sympy import Symbol, integrate\n",
    "# https://docs.sympy.org/latest/tutorial/calculus.html?highlight=calculus#integrals\n",
    "t = Symbol('t')\n",
    "R_prime = 6/(t+1) + 3/((t+1)**(1/2))"
   ]
  },
  {
   "cell_type": "code",
   "execution_count": 4,
   "metadata": {},
   "outputs": [
    {
     "data": {
      "text/plain": [
       "'14.906 units.'"
      ]
     },
     "execution_count": 4,
     "metadata": {},
     "output_type": "execute_result"
    }
   ],
   "source": [
    "# From t=1 hour to t=6 hours, the total reaction of the drug is units.\n",
    "f\"{round(integrate(R_prime,(t,1,6)).evalf(),3)} units.\""
   ]
  },
  {
   "cell_type": "code",
   "execution_count": 5,
   "metadata": {},
   "outputs": [
    {
     "data": {
      "text/plain": [
       "'21.763 units.'"
      ]
     },
     "execution_count": 5,
     "metadata": {},
     "output_type": "execute_result"
    }
   ],
   "source": [
    "# From t=6 hours to t=24 hours, the total reaction of the drug is units.\n",
    "f\"{round(integrate(R_prime,(t,6,24)).evalf(),3)} units.\""
   ]
  },
  {
   "cell_type": "markdown",
   "metadata": {},
   "source": [
    "<div class=\"alert alert-block alert-success\"><b>Problem 10: </b>Evaluate the definite integral:\n",
    "\n",
    "$$\\int(3x^2)ln(x)\\,dx$$\n"
   ]
  },
  {
   "cell_type": "code",
   "execution_count": 6,
   "metadata": {},
   "outputs": [
    {
     "name": "stdout",
     "output_type": "stream",
     "text": [
      "The integral is: x**3*log(x) - x**3/3\n"
     ]
    }
   ],
   "source": [
    "import sympy as sp\n",
    "\n",
    "# Define the variable and the integrand\n",
    "x = sp.Symbol('x')\n",
    "integrand = 3 * x**2 * sp.log(x)\n",
    "\n",
    "# Calculate the indefinite integral\n",
    "result = sp.integrate(integrand, x)\n",
    "\n",
    "# Print the result\n",
    "print(\"The integral is:\", result)\n"
   ]
  },
  {
   "cell_type": "markdown",
   "metadata": {},
   "source": [
    "<div class=\"alert alert-block alert-success\"><b>Problem 11: </b>A particle that moving along a straight line travels at a velocity of $v(t)=t^2exp^{-2t}$ feet per second after t seconds.\n",
    "\n",
    "Calculate the integral $$\\int_0^2 t^2 \\exp(-2t) \\, dv$$"
   ]
  },
  {
   "cell_type": "code",
   "execution_count": 7,
   "metadata": {},
   "outputs": [
    {
     "name": "stdout",
     "output_type": "stream",
     "text": [
      "The evaluated integral is: 1/4 - 13*exp(-4)/4\n"
     ]
    }
   ],
   "source": [
    "import sympy as sp\n",
    "\n",
    "# Define the variable and the integrand\n",
    "t = sp.Symbol('t')\n",
    "integrand = t**2 * sp.exp(-2*t)\n",
    "\n",
    "# Calculate the definite integral from 0 to 2\n",
    "result = sp.integrate(integrand, (t, 0, 2))\n",
    "\n",
    "# Print the result\n",
    "print(\"The evaluated integral is:\", result)\n"
   ]
  },
  {
   "cell_type": "markdown",
   "metadata": {},
   "source": [
    "<div class=\"alert alert-block alert-success\"><b>Problem 14: </b> Determine whether the following integral is divergent or convergent. If it is convergent, evaluate it. If not, state your answer as \"DNE\".\n",
    "\n",
    "$$\\int_2^\\infty 3/(x+4)^{3/2} \\, dt$$\n"
   ]
  },
  {
   "cell_type": "code",
   "execution_count": 8,
   "metadata": {},
   "outputs": [
    {
     "name": "stdout",
     "output_type": "stream",
     "text": [
      "The integral is convergent and its value is: 2.44948974278318\n"
     ]
    }
   ],
   "source": [
    "import sympy as sp\n",
    "\n",
    "# Define the variable and the integrand\n",
    "x = sp.Symbol('x')\n",
    "integrand = 3 / (x + 4)**(3/2)\n",
    "\n",
    "# Calculate the indefinite integral\n",
    "indefinite_integral = sp.integrate(integrand, x)\n",
    "\n",
    "# Evaluate the definite integral with a limit on the upper bound\n",
    "lower_limit = 2\n",
    "upper_limit = sp.oo\n",
    "definite_integral = sp.limit(indefinite_integral, x, upper_limit) - indefinite_integral.subs(x, lower_limit)\n",
    "\n",
    "# Print the result\n",
    "if definite_integral.is_finite:\n",
    "    print(\"The integral is convergent and its value is:\", definite_integral)\n",
    "else:\n",
    "    print(\"The integral is divergent.\")\n"
   ]
  },
  {
   "cell_type": "markdown",
   "metadata": {},
   "source": [
    "<div class=\"alert alert-block alert-success\"><b>Changes to Notebook</b></div>\n",
    "<ul>\n",
    "    <li>Fixed the display of the equation to Problem 10 by added closing LaTeX delimiter $$</li>\n",
    "</ul>"
   ]
  }
 ],
 "metadata": {
  "kernelspec": {
   "display_name": "Python 3 (ipykernel)",
   "language": "python",
   "name": "python3"
  },
  "language_info": {
   "codemirror_mode": {
    "name": "ipython",
    "version": 3
   },
   "file_extension": ".py",
   "mimetype": "text/x-python",
   "name": "python",
   "nbconvert_exporter": "python",
   "pygments_lexer": "ipython3",
   "version": "3.9.12"
  }
 },
 "nbformat": 4,
 "nbformat_minor": 1
}
