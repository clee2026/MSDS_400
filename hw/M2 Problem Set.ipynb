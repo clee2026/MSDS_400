{
 "cells": [
  {
   "cell_type": "markdown",
   "metadata": {},
   "source": [
    "# Module 2 Problem Set"
   ]
  },
  {
   "cell_type": "markdown",
   "metadata": {},
   "source": [
    "\n",
    "<div class=\"alert alert-block alert-success\"><b>Problem 1</b></div>\n",
    "\n",
    "Find the solution to the system of equations:\n",
    "$$ x - 2y + z = 11 $$\n",
    "$$ y + 2z = 1 $$\n",
    "$$ x + y + 3z = 6 $$"
   ]
  },
  {
   "cell_type": "code",
   "execution_count": 1,
   "metadata": {},
   "outputs": [
    {
     "name": "stdout",
     "output_type": "stream",
     "text": [
      "x= 3\n",
      "y= -3\n",
      "x= 2\n"
     ]
    }
   ],
   "source": [
    "import sympy as sym\n",
    "# Use sympy package to display the equation\n",
    "sym.init_printing()\n",
    "#sym.solve()\n",
    "x,y,z = sym.symbols('x,y,z')\n",
    "\n",
    "solns = sym.solve([\n",
    "    x - 2*y  + z - 11 , \n",
    "    y + 2*z - 1,\n",
    "    x + y + 3*z - 6\n",
    "    ],\n",
    "    \n",
    "    [x, y, z])\n",
    "print(f\"x= {solns[x]}\")\n",
    "print(f\"y= {solns[y]}\")\n",
    "print(f\"x= {solns[z]}\")"
   ]
  },
  {
   "cell_type": "markdown",
   "metadata": {},
   "source": [
    "<div class=\"alert alert-block alert-success\"><b>Problem 2</b></div>\n",
    "\n",
    "A startup company spent `$`156036 on a combination of 151 tablets, laptops, and desktop computers. Each tablet cost `$`361, each laptop cost `$`1498, and each desktop computer cost `$`1884. \n",
    "\n",
    "Based on the structure of the company, they purchased twice as many tablets as laptops.\n",
    "\n",
    "Let $x$ be the number of tablets purchased, $y$ the number of laptops purchased, and $z$ the number of desktops purchased. Set up the system of equations and solve it using Python.\n"
   ]
  },
  {
   "cell_type": "code",
   "execution_count": 2,
   "metadata": {},
   "outputs": [
    {
     "name": "stdout",
     "output_type": "stream",
     "text": [
      "x= 78\n",
      "y= 39\n",
      "x= 34\n"
     ]
    }
   ],
   "source": [
    "import sympy as sym\n",
    "# Use sympy package to display the equation\n",
    "sym.init_printing()\n",
    "#sym.solve()\n",
    "x,y,z = sym.symbols('x,y,z')\n",
    "\n",
    "# System of equations\n",
    "# x + y + z = 151\n",
    "# 361x + 1498y + 1884z = 150636\n",
    "# x - 2y = 0\n",
    "\n",
    "solns = sym.solve([\n",
    "    x + y + z - 151 , \n",
    "    361*x + 1498*y + 1884*z - 150636,\n",
    "    x - 2*y\n",
    "    ],\n",
    "    \n",
    "    [x, y, z])\n",
    "print(f\"x= {solns[x]}\")\n",
    "print(f\"y= {solns[y]}\")\n",
    "print(f\"x= {solns[z]}\")"
   ]
  },
  {
   "cell_type": "markdown",
   "metadata": {},
   "source": [
    "<div class=\"alert alert-block alert-success\"><b>Problem 3</b></div>\n",
    "\n",
    "A brass manufacturer makes three different type of wholesale brass blocks from copper and zinc according to the following matrix.\n",
    "\n",
    "|        | High Brass | Muntz Metal | Gilding Metal |\n",
    "|--------|------------|-------------|---------------|\n",
    "| Copper | 65%        | 60%         | 95%           |\n",
    "| Zinc   | 35%        | 40%         | 5%            |\n",
    "\n",
    "In addition, the demand (in thousands of pounds) from Plant 1 is 7 High Brass, 5 Muntz metal, and 25 Gilding metal, and the demand from Plant 2 is is 12 High Brass, 3 Muntz metal, and 29 Gilding metal.\n",
    "\n",
    "a) Make a 2x3 matrix B that contains the blending information in decimal form. \n",
    "\n",
    "b) Make a 3x2 matrix D for the demands at each plant. Plant 1 demands should be entered in column 1.\n",
    "\n",
    "c) Find the matrix product to find each locations need for each type of metal.\n",
    "\n",
    "d) if the price of zinc is `$`0.88 per pound and the price of copper is `$`3.29 per pound use python to calculate the total cost of Plant 1 and Plant 2."
   ]
  },
  {
   "cell_type": "code",
   "execution_count": 3,
   "metadata": {},
   "outputs": [
    {
     "name": "stdout",
     "output_type": "stream",
     "text": [
      "\n",
      "Matrix B:\n",
      "[[0.65 0.6  0.95]\n",
      " [0.35 0.4  0.05]]\n",
      "\n",
      "Matrix D:\n",
      "[[ 7 12]\n",
      " [ 5  3]\n",
      " [25 29]]\n",
      "\n",
      "Matrix Product:\n",
      "[[31.3  37.15]\n",
      " [ 5.7   6.85]]\n",
      "\n",
      "Total cost of Plant 1: $107,993.00\n",
      "Total cost of Plant 2: $128,251.50\n"
     ]
    }
   ],
   "source": [
    "# Matrix B\n",
    "import numpy as np\n",
    "\n",
    "# Create the blending matrix.\n",
    "B = np.array([[0.65, 0.6, 0.95], [0.35, 0.4, 0.05]])\n",
    "print()\n",
    "print(\"Matrix B:\")\n",
    "print(B)\n",
    "\n",
    "# Create the demand matrix.\n",
    "D = np.array([[7, 12], [5, 3], [25, 29]])\n",
    "\n",
    "print()\n",
    "print(\"Matrix D:\")\n",
    "print(D)\n",
    "\n",
    "# Calculate the matrix product.\n",
    "product = np.matmul(B, D)\n",
    "\n",
    "# Print the product.\n",
    "print()\n",
    "print(\"Matrix Product:\")\n",
    "print(product)\n",
    "\n",
    "# Set the price of zinc.\n",
    "zinc_price = 0.88\n",
    "\n",
    "# Set the price of copper.\n",
    "copper_price = 3.29\n",
    "\n",
    "# Calculate the total cost for Plant 1.\n",
    "plant1_cost = product[0, 0] * copper_price + product[1, 0] * zinc_price\n",
    "\n",
    "# Calculate the total cost for Plant 2.\n",
    "plant2_cost = product[0, 1] * copper_price + product[1, 1] * zinc_price\n",
    "\n",
    "# Print the total cost.\n",
    "total_cost_plant_1 = f\"${plant1_cost*1000:,.2f}\"\n",
    "total_cost_plant_2 = f\"${plant2_cost*1000:,.2f}\"\n",
    "\n",
    "print()\n",
    "print(\"Total cost of Plant 1:\",total_cost_plant_1)\n",
    "print(\"Total cost of Plant 2:\",total_cost_plant_2)\n"
   ]
  },
  {
   "cell_type": "markdown",
   "metadata": {},
   "source": [
    "<div class=\"alert alert-block alert-success\"><b>Problem 7</b></div>\n",
    "Suppose A = [[-4, -4],[7, 7]], B = [[-1,4],[-5,-1]] and C = [[1. -4, -5],[7, 6, 0]]. Perform the following operations:\n",
    "\n",
    "$$ A + B $$\n",
    "$$B^TC$$"
   ]
  },
  {
   "cell_type": "code",
   "execution_count": 4,
   "metadata": {},
   "outputs": [
    {
     "name": "stdout",
     "output_type": "stream",
     "text": [
      "A + B:\n",
      "[[-5  0]\n",
      " [ 2  6]]\n",
      "Transpose(B) * C:\n",
      "[[-36 -26   5]\n",
      " [ -3 -22 -20]]\n"
     ]
    }
   ],
   "source": [
    "import numpy as np\n",
    "\n",
    "# Define the matrices A, B, and C\n",
    "A = np.array([[-4, -4], [7, 7]])\n",
    "B = np.array([[-1, 4], [-5, -1]])\n",
    "C = np.array([[1, -4, -5], [7, 6, 0]])\n",
    "\n",
    "# (a) Find A + B\n",
    "sum_AB = A + B\n",
    "print(\"A + B:\")\n",
    "print(sum_AB)\n",
    "\n",
    "# (b) Transpose(B) * C\n",
    "transpose_B = np.transpose(B)\n",
    "result = np.dot(transpose_B, C)\n",
    "print(\"Transpose(B) * C:\")\n",
    "print(result)"
   ]
  },
  {
   "cell_type": "markdown",
   "metadata": {},
   "source": [
    "<div class=\"alert alert-block alert-success\"><b>Problem 9: </b></div>\n",
    "\n",
    "Solve the system using Cramer's Rule:\n",
    "\n",
    "$$6x + 5y + z = -4$$\n",
    "$$-6x - 4y - 2z = 2$$\n",
    "$$-x + 4y - 3z = -13$$\n"
   ]
  },
  {
   "cell_type": "code",
   "execution_count": 5,
   "metadata": {},
   "outputs": [
    {
     "name": "stdout",
     "output_type": "stream",
     "text": [
      "x = 3.0, y = -4.0, z = -2.0\n"
     ]
    }
   ],
   "source": [
    "import numpy as np\n",
    "\n",
    "# Define the coefficient matrix and the constant vector\n",
    "A = np.array([[6, 5, 1], [-6, -4, -2], [-1, 4, -3]])\n",
    "b = np.array([-4, 2, -13])\n",
    "\n",
    "# Calculate the determinant of A\n",
    "D = np.linalg.det(A)\n",
    "\n",
    "# Check if D is not zero\n",
    "if D != 0:\n",
    "    # Replace the first column of A by b and calculate the determinant\n",
    "    A1 = A.copy()\n",
    "    A1[:,0] = b\n",
    "    Dx = np.linalg.det(A1)\n",
    "\n",
    "    # Replace the second column of A by b and calculate the determinant\n",
    "    A2 = A.copy()\n",
    "    A2[:,1] = b\n",
    "    Dy = np.linalg.det(A2)\n",
    "\n",
    "    # Replace the third column of A by b and calculate the determinant\n",
    "    A3 = A.copy()\n",
    "    A3[:,2] = b\n",
    "    Dz = np.linalg.det(A3)\n",
    "\n",
    "    # Use Cramer's rule to find the solution\n",
    "    x = round(Dx / D,2)\n",
    "    y = round(Dy / D,2)\n",
    "    z = round(Dz / D,2)\n",
    "\n",
    "    # Print the solution\n",
    "    print(f\"x = {x}, y = {y}, z = {z}\")\n",
    "else:\n",
    "    # Print that there is no unique solution\n",
    "    print(\"There is no unique solution\")"
   ]
  },
  {
   "cell_type": "markdown",
   "metadata": {},
   "source": [
    "<div class=\"alert alert-block alert-success\"><b>Problem 11 </b></div>\n",
    "\n",
    "Consider the matrix A:\n",
    "\n",
    "$$\n",
    "A = \\begin{pmatrix}\n",
    "5 & -4 & 1 & -3 \\\\\n",
    "2 & -2 & 0 & -4 \\\\\n",
    "1 & 2 & 4 & -1 \\\\\n",
    "-2 & -5 & -2 & 5\n",
    "\\end{pmatrix}\n",
    "$$\n",
    "\n",
    ". To find the det(A), set up the cofactor expansion of A.\n"
   ]
  },
  {
   "cell_type": "code",
   "execution_count": 6,
   "metadata": {},
   "outputs": [
    {
     "name": "stdout",
     "output_type": "stream",
     "text": [
      "det(A) via numpy: -300.0\n",
      "det(A) via cofactor expansion: -300.0\n",
      "The cofactor expansion is correct\n"
     ]
    }
   ],
   "source": [
    "import numpy as np\n",
    "\n",
    "A = np.array([[5,-4,1,-3],\n",
    "              [2,-2,0,-4],\n",
    "              [1,2,4,-1],\n",
    "              [-2,-5,-2,5]\n",
    "             ]\n",
    "            )\n",
    "\n",
    "# Calculating the det(A) with numpy\n",
    "D = np.linalg.det(A)\n",
    "print (\"det(A) via numpy:\", round(D,2))\n",
    "\n",
    "# A11\n",
    "A11 = A[1:, 1:]\n",
    "D11 = np.linalg.det(A11)\n",
    "\n",
    "# A12\n",
    "A12 = A[1:, [0,2,3]]\n",
    "D12 = np.linalg.det(A12)\n",
    " \n",
    "# A13\n",
    "A13 = A[1:, [0,1,3]]\n",
    "D13 = np.linalg.det(A13)\n",
    "\n",
    "# A14\n",
    "A14 = A[1:, [0,1,2]]\n",
    "D14 = np.linalg.det(A14)\n",
    "\n",
    "# Coefficients from the first row\n",
    "a11, a12, a13, a14 = A[0]\n",
    "\n",
    "# Cofactor formula: Cij=(-1)**(i+j)Mij\n",
    "C11 = (-1)**(1+1) * D11\n",
    "C12 = (-1)**(1+2) * D12\n",
    "C13 = (-1)**(1+3) * D13\n",
    "C14 = (-1)**(1+4) * D14\n",
    "\n",
    "# Calculating the determinant using cofactor expansion along the first row\n",
    "D1 = a11 * C11 + a12 * C12 + a13 * C13 + a14 * C14\n",
    "print (\"det(A) via cofactor expansion:\", round(D1,2))\n",
    "\n",
    "# Checking the calculation of determinant via numpy compared to cofactor expansion\n",
    "if round(D, 2) == round(D1, 2):\n",
    "  print(\"The cofactor expansion is correct\")\n",
    "else:\n",
    "  print(\"The cofactor expansion is incorrect\")\n"
   ]
  },
  {
   "cell_type": "markdown",
   "metadata": {},
   "source": [
    "<div class=\"alert alert-block alert-success\"><b>Problem 12 </b></div>\n",
    "\n",
    "Suppose R, M, N, H are square matrices such that det(RM) = 16, det (MN) = 11 and det(NH) = 5, Find the following in Python:\n",
    "\n",
    "a. $$ det (RM^T)$$\n",
    "b. $$ det(RN^{-1}) $$\n",
    "c. $$ det(RMNH) $$\n",
    "d. $$ det (RH) $$"
   ]
  },
  {
   "cell_type": "code",
   "execution_count": 7,
   "metadata": {},
   "outputs": [
    {
     "name": "stdout",
     "output_type": "stream",
     "text": [
      "a. det(R * Transpose(M)) = 16\n",
      "b. det(R * inverse(N)) = 1.45\n",
      "c. det(RMNH) = 80\n",
      "d. det(RH) = 7.27\n"
     ]
    }
   ],
   "source": [
    "import numpy as np\n",
    "\n",
    "# R, C, D, H\n",
    "# R, M, N, H\n",
    "\n",
    "# Given determinants\n",
    "det_RM = 16\n",
    "det_MN = 11\n",
    "det_NH = 5\n",
    "\n",
    "# The transpose of M is the same as M since M is a square matrix.\n",
    "# So, det(R * Transpose(M)) = det(R * M) = det(RM)\n",
    "det_R_transpose_M = det_RM\n",
    "\n",
    "# To find the inverse of N, we have det(R * inverse(N)) = det(R) / det(N)\n",
    "det_R_times_inverse_of_N = det_RM / det_MN\n",
    "\n",
    "# We can find the determinant of the product RMNH\n",
    "# det(RMNH) = det(RM) * det(NH)\n",
    "det_RMNH = det_RM * det_NH\n",
    "\n",
    "# To find det(RH):\n",
    "# det(R) * det(M) = det(RM) -> (1)\n",
    "# det(M) * det(N) = det(MN) -> (2)\n",
    "# det(N) * det(H) = det(NH) -> (3)\n",
    "\n",
    "# Multiplying (1) (2) and (3)\n",
    "# det(R) * det(M) * det(M) * det(N) * det(N) * det(H) = det(RM) * det(MN) * det(NH)\n",
    "# Rearranging the terms\n",
    "# (det(R) * det(H)) * (det(M) * det(N) * det(M) * det(N)) = det(RM) * det(MN) * det(NH)\n",
    "# det(RH) * (det(MN) * det(MN)) = det(RM) * det(MN) * det(NH)\n",
    "\n",
    "# => det(RH) = (det(RM) * det(MN) * det(NH))/det(MN)^2\n",
    "\n",
    "\n",
    "print(\"a. det(R * Transpose(M)) =\", round(det_R_transpose_M,2))\n",
    "print(\"b. det(R * inverse(N)) =\", round(det_R_times_inverse_of_N,2))\n",
    "print(\"c. det(RMNH) =\", round(det_RMNH,2))\n",
    "print(\"d. det(RH) =\", round((det_RM*det_MN*det_NH)/(det_MN**2),2))"
   ]
  },
  {
   "cell_type": "markdown",
   "metadata": {},
   "source": [
    "<div class=\"alert alert-block alert-success\"><b>Problem 13:</b></div>\n",
    "\n",
    "Suppose A = [[3, -2, 2], [0, -3, 0], [0, 0, 5]]. Find the sum of all the eigenvalues of A and the product of all the eigenvalues."
   ]
  },
  {
   "cell_type": "markdown",
   "metadata": {},
   "source": [
    "Plotting equations"
   ]
  },
  {
   "cell_type": "code",
   "execution_count": 8,
   "metadata": {},
   "outputs": [
    {
     "name": "stdout",
     "output_type": "stream",
     "text": [
      "Eigenvalues: [ 3. -3.  5.]\n",
      "Sum of eigenvalues: 5.0\n",
      "Product of eigenvalues: -45.0\n"
     ]
    }
   ],
   "source": [
    "import numpy as np\n",
    "\n",
    "# Given matrix A\n",
    "A = np.array([[3, -2, 2], [0, -3, 0], [0, 0, 5]])\n",
    "\n",
    "# Calculate the eigenvalues of A\n",
    "eigenvalues = np.linalg.eigvals(A)\n",
    "\n",
    "# Find the sum of the eigenvalues\n",
    "sum_of_eigenvalues = np.sum(eigenvalues)\n",
    "\n",
    "# Find the product of the eigenvalues\n",
    "product_of_eigenvalues = np.prod(eigenvalues)\n",
    "\n",
    "print(\"Eigenvalues:\", eigenvalues)\n",
    "print(\"Sum of eigenvalues:\", sum_of_eigenvalues)\n",
    "print(\"Product of eigenvalues:\", product_of_eigenvalues)"
   ]
  },
  {
   "cell_type": "markdown",
   "metadata": {},
   "source": [
    "<div class=\"alert alert-block alert-success\"><b>Problem 15:</b></div>\n",
    "\n",
    "Given the following matrix, A, find each eigenvalue and a corresponding eigenvector.\n",
    "\n",
    "$$\n",
    "A = \\begin{pmatrix}\n",
    "-34 & 30 & -15 \\\\\n",
    "-25 & 21 & -15 \\\\\n",
    "12 & -6 & 15 \n",
    "\\end{pmatrix}\n",
    "$$"
   ]
  },
  {
   "cell_type": "markdown",
   "metadata": {},
   "source": [
    "<strong>Note there are infinitely many eigenvectors for an eigenvalue depending on the scaling factor.</strong><p>\n",
    "\n",
    "<em>The following Python code will compute the eigenvectors symbolically, so it's more likely to provide you precise or integer results. Hopefully, this will get you closer to more satisfying answers that you might find in the examples</em><p>"
   ]
  },
  {
   "cell_type": "code",
   "execution_count": 9,
   "metadata": {},
   "outputs": [
    {
     "name": "stdout",
     "output_type": "stream",
     "text": [
      "Eigenvalue: -9\n",
      "Eigenvector: Matrix([[-3], [-2], [1]])\n",
      "Eigenvalue: 5\n",
      "Eigenvector: Matrix([[-5/3], [-5/3], [1]])\n",
      "Eigenvalue: 6\n",
      "Eigenvector: Matrix([[-3/2], [-3/2], [1]])\n"
     ]
    }
   ],
   "source": [
    "from sympy import Matrix\n",
    "\n",
    "# Define the matrix\n",
    "A = Matrix([[-34, 30, -15], [-25, 21, -15], [12, -6, 15]])\n",
    "\n",
    "# Compute the eigenvalues and eigenvectors\n",
    "eigenvalues = A.eigenvals(multiple=True)\n",
    "eigenvectors = A.eigenvects()\n",
    "\n",
    "# Output the results\n",
    "for val, mult, vec in eigenvectors:\n",
    "    print(f\"Eigenvalue: {val}\")\n",
    "    for v in vec:\n",
    "        print(f\"Eigenvector: {v}\")"
   ]
  },
  {
   "cell_type": "markdown",
   "metadata": {},
   "source": [
    "<div class=\"alert alert-block alert-success\"><b>Changes to Notebook</b></div>\n",
    "<ul>\n",
    "    <li>Adjusted answer output display for Problems 1+2</li>\n",
    "    <li>Fixed dollar amounts in markdown by surrounding the dollar-sign with backticks for Problems2+3</li>\n",
    "    <li>Added Problem 11</li>\n",
    "    <li>Added more comments for the intermediate steps of Problem 12 code</li>\n",
    "    <li>Added Problem 15</li>\n",
    "</ul>"
   ]
  },
  {
   "cell_type": "code",
   "execution_count": null,
   "metadata": {},
   "outputs": [],
   "source": []
  }
 ],
 "metadata": {
  "kernelspec": {
   "display_name": "Python 3 (ipykernel)",
   "language": "python",
   "name": "python3"
  },
  "language_info": {
   "codemirror_mode": {
    "name": "ipython",
    "version": 3
   },
   "file_extension": ".py",
   "mimetype": "text/x-python",
   "name": "python",
   "nbconvert_exporter": "python",
   "pygments_lexer": "ipython3",
   "version": "3.9.12"
  },
  "varInspector": {
   "cols": {
    "lenName": 16,
    "lenType": 16,
    "lenVar": 40
   },
   "kernels_config": {
    "python": {
     "delete_cmd_postfix": "",
     "delete_cmd_prefix": "del ",
     "library": "var_list.py",
     "varRefreshCmd": "print(var_dic_list())"
    },
    "r": {
     "delete_cmd_postfix": ") ",
     "delete_cmd_prefix": "rm(",
     "library": "var_list.r",
     "varRefreshCmd": "cat(var_dic_list()) "
    }
   },
   "types_to_exclude": [
    "module",
    "function",
    "builtin_function_or_method",
    "instance",
    "_Feature"
   ],
   "window_display": false
  }
 },
 "nbformat": 4,
 "nbformat_minor": 4
}
